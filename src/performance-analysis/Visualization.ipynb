{
 "cells": [
  {
   "cell_type": "markdown",
   "id": "95518f28",
   "metadata": {},
   "source": [
    "<div style=\"text-align: left; font-size: 16px;\">\n",
    "    <div style=\"text-align: left; display: inline-block; line-height: 2;\">\n",
    "        <ul style=\"list-style-type: none; padding: 0;\">\n",
    "            <li>RMIT UNIVERSITY VIETNAM</li>\n",
    "            <li>School of Science, Engineering and Technology (SSET)</li>\n",
    "            <li>COSC2469 | COSC2722 – Algorithms and Analysis</li>\n",
    "        </ul>\n",
    "    </div>\n",
    "</div>\n",
    "\n",
    "<div style=\"text-align: center; font-size: 24px; margin-bottom: 5px; margin-top: 0px\">\n",
    "    <strong style=\"color: red;\">Assessment 2: Group Project – Sudoku Solver</strong>\n",
    "</div>\n",
    "\n",
    "<div style=\"text-align: center; font-size: 20px; margin-bottom: -10px\">\n",
    "    <div style=\"text-align: center; display: inline-block; line-height: 2;\">\n",
    "        <ul style=\"list-style-type: none; padding: 0;\">\n",
    "            <li><strong>- Lecture:</strong> Dr. Tri Dang</li>\n",
    "            <li style=\"text-align: left; display: inline-block; padding-left: 30px;\">\n",
    "                s3914633 - Tran Dong Nghi\n",
    "            </li>\n",
    "            <li style=\"text-align: left; display: inline-block; padding-left: 30px;\">\n",
    "                s4021263 - Chan Yong Park \n",
    "            </li>\n",
    "            <li style=\"text-align: left; display: inline-block; padding-left: 30px;\">\n",
    "                s4061665 - Le Hung \n",
    "            </li>\n",
    "            <li style=\"text-align: left; display: inline-block; padding-left: 30px;\">\n",
    "                s4104540 - Huynh Nguyen Minh Nhu\t \n",
    "            </li>\n",
    "            <li style=\"text-align: left; display: inline-block; padding-left: 30px;\">\n",
    "                s4054071 – Tran Hoang Nguyen\n",
    "            </li>\n",
    "            <li><strong>- Submission Due Date:</strong> 12.05.2025</li>\n",
    "        </ul>\n",
    "    </div>\n",
    "</div>\n",
    "\n",
    "<p style=\"text-align: center; font-size:16px; margin-left: 20px; line-height: 1.7; margin-top: -5px; margin-right: 30px;\"><i>\"I declare that in submitting all work for this assessment I have read, understood, and agree to the content and expectations of the <a href=\"https://www.rmit.edu.au/students/my-course/assessment-results/assessment\" target=\"_blank\">Assessment declaration</a>.\"</i></p>\n"
   ]
  },
  {
   "cell_type": "markdown",
   "id": "2ae663a1",
   "metadata": {},
   "source": [
    "# 1. IMPORT LIBRARY"
   ]
  },
  {
   "cell_type": "code",
   "execution_count": null,
   "id": "56fedaab",
   "metadata": {},
   "outputs": [],
   "source": [
    "import pandas as pd\n",
    "import numpy as np\n",
    "import matplotlib.pyplot as plt\n",
    "import seaborn as sns"
   ]
  },
  {
   "cell_type": "markdown",
   "id": "ccbca9a1",
   "metadata": {},
   "source": [
    "# 2. IMPORT DATA"
   ]
  },
  {
   "cell_type": "markdown",
   "id": "35d3d1f8",
   "metadata": {},
   "source": []
  }
 ],
 "metadata": {
  "language_info": {
   "name": "python"
  }
 },
 "nbformat": 4,
 "nbformat_minor": 5
}
